{
 "cells": [
  {
   "cell_type": "markdown",
   "id": "b2df38de",
   "metadata": {},
   "source": [
    "# Data Science Tools and Ecosystem"
   ]
  },
  {
   "cell_type": "markdown",
   "id": "cfe44fb9",
   "metadata": {},
   "source": [
    "In this notebook, Data Science Tools and Ecosystem are summarized."
   ]
  },
  {
   "cell_type": "markdown",
   "id": "54112ff6",
   "metadata": {},
   "source": [
    "**Objectives:**\n",
    "\n",
    "- List popular languages for Data Science.\n",
    "- Demonstrate basic operations in Python, such as mathematical calculations and string formatting.\n",
    "- Introduce the concept of formatted strings in Python.\n",
    "- Explain the use of Markdown for documentation within Jupyter Notebooks.\n",
    "- Provide examples of how to format text and data within Jupyter using Markdown.\n"
   ]
  },
  {
   "cell_type": "markdown",
   "id": "e4298c28",
   "metadata": {},
   "source": [
    "Some of the popular languages that Data Scientists use are:\n",
    "1. Python\n",
    "2. C++\n",
    "3. Scala\n",
    "4. Java"
   ]
  },
  {
   "cell_type": "markdown",
   "id": "b42b3bb3",
   "metadata": {},
   "source": [
    "Some of the commonly used libraries used by Data Scientists include:\n",
    "1. Matplotlib\n",
    "2. Pandas\n",
    "3. Numpy"
   ]
  },
  {
   "cell_type": "markdown",
   "id": "4d093917",
   "metadata": {},
   "source": [
    "| Data Science Tools |\n",
    "|--------------------|\n",
    "| Jupyter |\n",
    "| R |\n",
    "| Python |"
   ]
  },
  {
   "cell_type": "markdown",
   "id": "3f63a11d",
   "metadata": {},
   "source": [
    "### Below are a few examples of evaluating arithmetic expressions in Python"
   ]
  },
  {
   "cell_type": "markdown",
   "id": "21cd1898",
   "metadata": {},
   "source": [
    "This a simple arithmetic expression to mutiply then add integers"
   ]
  },
  {
   "cell_type": "code",
   "execution_count": 3,
   "id": "9c59800b",
   "metadata": {},
   "outputs": [
    {
     "data": {
      "text/plain": [
       "17"
      ]
     },
     "execution_count": 3,
     "metadata": {},
     "output_type": "execute_result"
    }
   ],
   "source": [
    "(3*4)+5"
   ]
  },
  {
   "cell_type": "markdown",
   "id": "87803a46",
   "metadata": {},
   "source": [
    "This will convert 200 minutes to hours by diving by 60"
   ]
  },
  {
   "cell_type": "code",
   "execution_count": 8,
   "id": "23864d5f",
   "metadata": {},
   "outputs": [
    {
     "name": "stdout",
     "output_type": "stream",
     "text": [
      "200 minutes is about 3 hours\n"
     ]
    }
   ],
   "source": [
    "import math\n",
    "\n",
    "def MinutesToHours(minutes):\n",
    "    hours = math.floor(minutes/60)\n",
    "    print(f\"{minutes} minutes is about {hours} hours\")\n",
    "    \n",
    "MinutesToHours(200)\n",
    "    "
   ]
  },
  {
   "cell_type": "markdown",
   "id": "8bc221e3",
   "metadata": {},
   "source": [
    "## Author\n",
    "Stephen Vincent"
   ]
  },
  {
   "cell_type": "code",
   "execution_count": null,
   "id": "531b499f",
   "metadata": {},
   "outputs": [],
   "source": []
  }
 ],
 "metadata": {
  "kernelspec": {
   "display_name": "Python 3 (ipykernel)",
   "language": "python",
   "name": "python3"
  },
  "language_info": {
   "codemirror_mode": {
    "name": "ipython",
    "version": 3
   },
   "file_extension": ".py",
   "mimetype": "text/x-python",
   "name": "python",
   "nbconvert_exporter": "python",
   "pygments_lexer": "ipython3",
   "version": "3.11.7"
  }
 },
 "nbformat": 4,
 "nbformat_minor": 5
}
